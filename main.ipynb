{
 "cells": [
  {
   "cell_type": "code",
   "execution_count": 17,
   "id": "7d36b937",
   "metadata": {},
   "outputs": [],
   "source": [
    "import pandas as pd\n",
    "import numpy as np\n",
    "import matplotlib.pyplot as plt\n",
    "import json\n",
    "import os\n",
    "import folium\n",
    "from folium.plugins import HeatMap\n",
    "import nltk\n",
    "\n",
    "from nltk.sentiment import SentimentIntensityAnalyzer"
   ]
  },
  {
   "cell_type": "code",
   "execution_count": 4,
   "id": "64fe4569",
   "metadata": {},
   "outputs": [],
   "source": [
    "dir = 'D:\\AK_SMA\\dataset'"
   ]
  },
  {
   "cell_type": "code",
   "execution_count": 5,
   "id": "f4e6134b",
   "metadata": {},
   "outputs": [
    {
     "data": {
      "text/plain": [
       "['dutch_tweets_chunk0.json',\n",
       " 'dutch_tweets_chunk1.json',\n",
       " 'dutch_tweets_chunk2.json',\n",
       " 'dutch_tweets_chunk3.json',\n",
       " 'dutch_tweets_chunk4.json',\n",
       " 'dutch_tweets_chunk5.json',\n",
       " 'dutch_tweets_chunk6.json',\n",
       " 'dutch_tweets_chunk7.json',\n",
       " 'dutch_tweets_chunk8.json',\n",
       " 'dutch_tweets_chunk9.json']"
      ]
     },
     "execution_count": 5,
     "metadata": {},
     "output_type": "execute_result"
    }
   ],
   "source": [
    "files = os.listdir(dir)\n",
    "files"
   ]
  },
  {
   "cell_type": "code",
   "execution_count": 6,
   "id": "dc117d6c",
   "metadata": {},
   "outputs": [],
   "source": [
    "with open(os.path.join(dir, files[0]), 'r') as f:\n",
    "    json_object = json.load(f)\n",
    "\n",
    "df_main = pd.DataFrame(data = {}, columns=list(json_object[0].keys()))"
   ]
  },
  {
   "cell_type": "code",
   "execution_count": 7,
   "id": "2b9495d1",
   "metadata": {},
   "outputs": [
    {
     "data": {
      "text/html": [
       "<div>\n",
       "<style scoped>\n",
       "    .dataframe tbody tr th:only-of-type {\n",
       "        vertical-align: middle;\n",
       "    }\n",
       "\n",
       "    .dataframe tbody tr th {\n",
       "        vertical-align: top;\n",
       "    }\n",
       "\n",
       "    .dataframe thead th {\n",
       "        text-align: right;\n",
       "    }\n",
       "</style>\n",
       "<table border=\"1\" class=\"dataframe\">\n",
       "  <thead>\n",
       "    <tr style=\"text-align: right;\">\n",
       "      <th></th>\n",
       "      <th>full_text</th>\n",
       "      <th>text_translation</th>\n",
       "      <th>created_at</th>\n",
       "      <th>screen_name</th>\n",
       "      <th>description</th>\n",
       "      <th>desc_translation</th>\n",
       "      <th>weekofyear</th>\n",
       "      <th>weekday</th>\n",
       "      <th>day</th>\n",
       "      <th>month</th>\n",
       "      <th>...</th>\n",
       "      <th>point</th>\n",
       "      <th>latitude</th>\n",
       "      <th>longitude</th>\n",
       "      <th>altitude</th>\n",
       "      <th>province</th>\n",
       "      <th>hisco_standard</th>\n",
       "      <th>hisco_code</th>\n",
       "      <th>industry</th>\n",
       "      <th>sentiment_pattern</th>\n",
       "      <th>subjective_pattern</th>\n",
       "    </tr>\n",
       "  </thead>\n",
       "  <tbody>\n",
       "  </tbody>\n",
       "</table>\n",
       "<p>0 rows × 23 columns</p>\n",
       "</div>"
      ],
      "text/plain": [
       "Empty DataFrame\n",
       "Columns: [full_text, text_translation, created_at, screen_name, description, desc_translation, weekofyear, weekday, day, month, year, location, point_info, point, latitude, longitude, altitude, province, hisco_standard, hisco_code, industry, sentiment_pattern, subjective_pattern]\n",
       "Index: []\n",
       "\n",
       "[0 rows x 23 columns]"
      ]
     },
     "execution_count": 7,
     "metadata": {},
     "output_type": "execute_result"
    }
   ],
   "source": [
    "df_main"
   ]
  },
  {
   "cell_type": "code",
   "execution_count": 8,
   "id": "b0860c1f",
   "metadata": {},
   "outputs": [
    {
     "name": "stderr",
     "output_type": "stream",
     "text": [
      "C:\\Users\\sunil\\AppData\\Local\\Temp\\ipykernel_21536\\3973225201.py:4: FutureWarning: The behavior of DataFrame concatenation with empty or all-NA entries is deprecated. In a future version, this will no longer exclude empty or all-NA columns when determining the result dtypes. To retain the old behavior, exclude the relevant entries before the concat operation.\n",
      "  df_main = pd.concat([df_main, pd.DataFrame(json_obj)], ignore_index=True)\n"
     ]
    },
    {
     "name": "stdout",
     "output_type": "stream",
     "text": [
      "(271342, 23)\n"
     ]
    }
   ],
   "source": [
    "\n",
    "for i in range(len(files)):\n",
    "  with open(os.path.join(dir, files[i])) as f:\n",
    "    json_obj = json.load(f)\n",
    "    df_main = pd.concat([df_main, pd.DataFrame(json_obj)], ignore_index=True)\n",
    "\n",
    "print(df_main.shape)"
   ]
  },
  {
   "cell_type": "code",
   "execution_count": 10,
   "id": "76018977",
   "metadata": {},
   "outputs": [],
   "source": [
    "df_plot = df_main[['latitude', 'longitude']]"
   ]
  },
  {
   "cell_type": "code",
   "execution_count": 11,
   "id": "6543e278",
   "metadata": {},
   "outputs": [],
   "source": [
    "df_plot=df_plot.dropna(subset=['latitude', 'longitude'])\n",
    "\n",
    "df_plot = df_plot[(df_plot['latitude'] >= -90) & (df_plot['latitude'] <= 90)]\n",
    "df_plot = df_plot[(df_plot['longitude'] >= -180) & (df_plot['longitude'] <= 180)]\n"
   ]
  },
  {
   "cell_type": "code",
   "execution_count": null,
   "id": "a63b1ca8",
   "metadata": {},
   "outputs": [],
   "source": [
    "map_center = [df_plot['longitude'].mean(), df_plot['latitude'].mean()]\n",
    "heat_map = folium.Map(location=map_center, zoom_start=4)"
   ]
  },
  {
   "cell_type": "code",
   "execution_count": 13,
   "id": "ae64b6a2",
   "metadata": {},
   "outputs": [
    {
     "data": {
      "text/plain": [
       "<folium.plugins.heat_map.HeatMap at 0x22e41c3e450>"
      ]
     },
     "execution_count": 13,
     "metadata": {},
     "output_type": "execute_result"
    }
   ],
   "source": [
    "\n",
    "head_data = df_plot[['latitude', 'longitude']].values.tolist()\n",
    "HeatMap(head_data, radius=10, blur=15, max_zoom=6).add_to(heat_map)"
   ]
  },
  {
   "cell_type": "code",
   "execution_count": 14,
   "id": "d14dae01",
   "metadata": {},
   "outputs": [],
   "source": [
    "\n",
    "image = \"dutch_heatmap.html\"\n",
    "heat_map.save(image)"
   ]
  },
  {
   "cell_type": "code",
   "execution_count": 15,
   "id": "fe35d8c4",
   "metadata": {},
   "outputs": [],
   "source": [
    "df_sentiment = df_main[['text_translation']]"
   ]
  },
  {
   "cell_type": "code",
   "execution_count": 16,
   "id": "06f3d3f8",
   "metadata": {},
   "outputs": [
    {
     "name": "stderr",
     "output_type": "stream",
     "text": [
      "[nltk_data] Downloading package names to\n",
      "[nltk_data]     C:\\Users\\sunil\\AppData\\Roaming\\nltk_data...\n",
      "[nltk_data]   Package names is already up-to-date!\n",
      "[nltk_data] Downloading package stopwords to\n",
      "[nltk_data]     C:\\Users\\sunil\\AppData\\Roaming\\nltk_data...\n",
      "[nltk_data]   Package stopwords is already up-to-date!\n",
      "[nltk_data] Downloading package state_union to\n",
      "[nltk_data]     C:\\Users\\sunil\\AppData\\Roaming\\nltk_data...\n",
      "[nltk_data]   Package state_union is already up-to-date!\n",
      "[nltk_data] Downloading package twitter_samples to\n",
      "[nltk_data]     C:\\Users\\sunil\\AppData\\Roaming\\nltk_data...\n",
      "[nltk_data]   Package twitter_samples is already up-to-date!\n",
      "[nltk_data] Downloading package movie_reviews to\n",
      "[nltk_data]     C:\\Users\\sunil\\AppData\\Roaming\\nltk_data...\n",
      "[nltk_data]   Package movie_reviews is already up-to-date!\n",
      "[nltk_data] Downloading package averaged_perceptron_tagger to\n",
      "[nltk_data]     C:\\Users\\sunil\\AppData\\Roaming\\nltk_data...\n",
      "[nltk_data]   Package averaged_perceptron_tagger is already up-to-\n",
      "[nltk_data]       date!\n",
      "[nltk_data] Downloading package vader_lexicon to\n",
      "[nltk_data]     C:\\Users\\sunil\\AppData\\Roaming\\nltk_data...\n",
      "[nltk_data]   Package vader_lexicon is already up-to-date!\n",
      "[nltk_data] Downloading package punkt to\n",
      "[nltk_data]     C:\\Users\\sunil\\AppData\\Roaming\\nltk_data...\n",
      "[nltk_data]   Package punkt is already up-to-date!\n"
     ]
    },
    {
     "data": {
      "text/plain": [
       "True"
      ]
     },
     "execution_count": 16,
     "metadata": {},
     "output_type": "execute_result"
    }
   ],
   "source": [
    "nltk.download([\n",
    "\"names\",\n",
    "\"stopwords\",\n",
    "\"state_union\",\n",
    "\"twitter_samples\",\n",
    "\"movie_reviews\",\n",
    "\"averaged_perceptron_tagger\",\n",
    "\"vader_lexicon\",\n",
    "\"punkt\",\n",
    "])"
   ]
  },
  {
   "cell_type": "code",
   "execution_count": 19,
   "id": "19c13992",
   "metadata": {},
   "outputs": [],
   "source": [
    "\n",
    "sia = SentimentIntensityAnalyzer()"
   ]
  },
  {
   "cell_type": "code",
   "execution_count": 20,
   "id": "9035bcdd",
   "metadata": {},
   "outputs": [
    {
     "name": "stderr",
     "output_type": "stream",
     "text": [
      "C:\\Users\\sunil\\AppData\\Local\\Temp\\ipykernel_21536\\2017465376.py:1: SettingWithCopyWarning: \n",
      "A value is trying to be set on a copy of a slice from a DataFrame\n",
      "\n",
      "See the caveats in the documentation: https://pandas.pydata.org/pandas-docs/stable/user_guide/indexing.html#returning-a-view-versus-a-copy\n",
      "  df_sentiment.dropna(inplace=True)\n"
     ]
    }
   ],
   "source": [
    "df_sentiment.dropna(inplace=True)"
   ]
  },
  {
   "cell_type": "code",
   "execution_count": 21,
   "id": "321d7b71",
   "metadata": {},
   "outputs": [],
   "source": [
    "def senti_analysis(text):\n",
    "    scores = sia.polarity_scores(text)\n",
    "    return scores['compound']"
   ]
  },
  {
   "cell_type": "code",
   "execution_count": 22,
   "id": "92ecf423",
   "metadata": {},
   "outputs": [
    {
     "name": "stderr",
     "output_type": "stream",
     "text": [
      "C:\\Users\\sunil\\AppData\\Local\\Temp\\ipykernel_21536\\2295711962.py:1: SettingWithCopyWarning: \n",
      "A value is trying to be set on a copy of a slice from a DataFrame.\n",
      "Try using .loc[row_indexer,col_indexer] = value instead\n",
      "\n",
      "See the caveats in the documentation: https://pandas.pydata.org/pandas-docs/stable/user_guide/indexing.html#returning-a-view-versus-a-copy\n",
      "  df_sentiment['sentiment_scores'] = df_sentiment['text_translation'].apply(senti_analysis)\n"
     ]
    }
   ],
   "source": [
    "df_sentiment['sentiment_scores'] = df_sentiment['text_translation'].apply(senti_analysis)"
   ]
  },
  {
   "cell_type": "code",
   "execution_count": 23,
   "id": "d9fa40dc",
   "metadata": {},
   "outputs": [],
   "source": [
    "def sentiments(scores):\n",
    "    if scores > 0.05:\n",
    "        return \"positive\"\n",
    "\n",
    "    elif scores <= -0.05:\n",
    "        return \"negative\"\n",
    "\n",
    "    else:\n",
    "        return \"neutral\""
   ]
  },
  {
   "cell_type": "code",
   "execution_count": 24,
   "id": "95454c8f",
   "metadata": {},
   "outputs": [
    {
     "name": "stderr",
     "output_type": "stream",
     "text": [
      "C:\\Users\\sunil\\AppData\\Local\\Temp\\ipykernel_21536\\909095579.py:1: SettingWithCopyWarning: \n",
      "A value is trying to be set on a copy of a slice from a DataFrame.\n",
      "Try using .loc[row_indexer,col_indexer] = value instead\n",
      "\n",
      "See the caveats in the documentation: https://pandas.pydata.org/pandas-docs/stable/user_guide/indexing.html#returning-a-view-versus-a-copy\n",
      "  df_sentiment['sentiment_label'] = df_sentiment['sentiment_scores'].apply(sentiments)\n"
     ]
    }
   ],
   "source": [
    "df_sentiment['sentiment_label'] = df_sentiment['sentiment_scores'].apply(sentiments)"
   ]
  },
  {
   "cell_type": "code",
   "execution_count": 26,
   "id": "cf960107",
   "metadata": {},
   "outputs": [],
   "source": [
    "\n",
    "df_sentiment.to_csv(\"sentimentAnalysis.csv\", index = False)"
   ]
  },
  {
   "cell_type": "code",
   "execution_count": null,
   "id": "535bd353",
   "metadata": {},
   "outputs": [],
   "source": []
  }
 ],
 "metadata": {
  "kernelspec": {
   "display_name": "venv",
   "language": "python",
   "name": "python3"
  },
  "language_info": {
   "codemirror_mode": {
    "name": "ipython",
    "version": 3
   },
   "file_extension": ".py",
   "mimetype": "text/x-python",
   "name": "python",
   "nbconvert_exporter": "python",
   "pygments_lexer": "ipython3",
   "version": "3.11.3"
  }
 },
 "nbformat": 4,
 "nbformat_minor": 5
}
